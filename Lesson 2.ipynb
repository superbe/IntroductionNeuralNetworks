{
 "cells": [
  {
   "cell_type": "markdown",
   "metadata": {},
   "source": [
    "# Курс «Введение в нейронные сети»"
   ]
  },
  {
   "cell_type": "markdown",
   "metadata": {},
   "source": [
    "## Урок 2. Keras"
   ]
  },
  {
   "cell_type": "markdown",
   "metadata": {},
   "source": [
    "### Домашняя работа к уроку 2"
   ]
  },
  {
   "cell_type": "markdown",
   "metadata": {},
   "source": [
    "#### Задание 1"
   ]
  },
  {
   "cell_type": "markdown",
   "metadata": {},
   "source": [
    "Попробуйте обучить, нейронную сеть на Keras(рассмотренную на уроке) на датасете MNIST с другими параметрами. Опишите в комментарии к уроку - какой результата вы добились от нейросети? Что помогло вам улучшить ее точность?"
   ]
  },
  {
   "cell_type": "code",
   "execution_count": 1,
   "metadata": {},
   "outputs": [],
   "source": [
    "import numpy as np\n",
    "import keras\n",
    "from mnist import MNIST\n",
    "from keras.models import Sequential\n",
    "from keras.layers import Dense\n",
    "from keras.utils import to_categorical\n",
    "import matplotlib.pyplot as plt"
   ]
  },
  {
   "cell_type": "markdown",
   "metadata": {},
   "source": [
    "Загрузили данные"
   ]
  },
  {
   "cell_type": "code",
   "execution_count": 2,
   "metadata": {},
   "outputs": [],
   "source": [
    "mndata = MNIST('lesson_source')\n",
    "train_images, train_labels = mndata.load_training()\n",
    "test_images, test_labels = mndata.load_testing()"
   ]
  },
  {
   "cell_type": "markdown",
   "metadata": {},
   "source": [
    "Нормализуем данные."
   ]
  },
  {
   "cell_type": "code",
   "execution_count": 3,
   "metadata": {},
   "outputs": [],
   "source": [
    "train_images = (np.array(train_images) / 255) - 0.5\n",
    "test_images = (np.array(test_images) / 255) - 0.5"
   ]
  },
  {
   "cell_type": "markdown",
   "metadata": {},
   "source": [
    "Преобразуем данные из матричного вида в векторный."
   ]
  },
  {
   "cell_type": "code",
   "execution_count": 4,
   "metadata": {},
   "outputs": [],
   "source": [
    "train_images = train_images.reshape((-1, 784))\n",
    "test_images = test_images.reshape((-1, 784))"
   ]
  },
  {
   "cell_type": "markdown",
   "metadata": {},
   "source": [
    "Формируем модель (Здесь можно \"поиграться\" количеством слоев, количеством нейронов в слое, видом функции активации)"
   ]
  },
  {
   "cell_type": "code",
   "execution_count": 5,
   "metadata": {},
   "outputs": [],
   "source": [
    "model = Sequential([\n",
    "  Dense(64, activation='relu', input_shape=(784,)),\n",
    "  Dense(64, activation='relu'),\n",
    "  Dense(10, activation='softmax'),\n",
    "])"
   ]
  },
  {
   "cell_type": "markdown",
   "metadata": {},
   "source": [
    "Компилируем модель"
   ]
  },
  {
   "cell_type": "code",
   "execution_count": 6,
   "metadata": {},
   "outputs": [],
   "source": [
    "model.compile(\n",
    "  optimizer='adam',\n",
    "  loss='categorical_crossentropy',\n",
    "  metrics=['accuracy'],\n",
    ")"
   ]
  },
  {
   "cell_type": "markdown",
   "metadata": {},
   "source": [
    "Обучаем модель (здесь можно поиграться количеством эпох и количеством образцов на эпоху)"
   ]
  },
  {
   "cell_type": "code",
   "execution_count": 7,
   "metadata": {},
   "outputs": [
    {
     "name": "stdout",
     "output_type": "stream",
     "text": [
      "Epoch 1/5\n",
      "1875/1875 [==============================] - 2s 1ms/step - loss: 0.3601 - accuracy: 0.8917\n",
      "Epoch 2/5\n",
      "1875/1875 [==============================] - 2s 1ms/step - loss: 0.1819 - accuracy: 0.9449\n",
      "Epoch 3/5\n",
      "1875/1875 [==============================] - 2s 1ms/step - loss: 0.1379 - accuracy: 0.9576\n",
      "Epoch 4/5\n",
      "1875/1875 [==============================] - 2s 1ms/step - loss: 0.1163 - accuracy: 0.9635\n",
      "Epoch 5/5\n",
      "1875/1875 [==============================] - 2s 1ms/step - loss: 0.1037 - accuracy: 0.9677\n"
     ]
    },
    {
     "data": {
      "text/plain": [
       "<tensorflow.python.keras.callbacks.History at 0x282ba954c48>"
      ]
     },
     "execution_count": 7,
     "metadata": {},
     "output_type": "execute_result"
    }
   ],
   "source": [
    "model.fit(\n",
    "  train_images,\n",
    "  to_categorical(train_labels),\n",
    "  epochs=5,\n",
    "  batch_size=32,\n",
    ")"
   ]
  },
  {
   "cell_type": "markdown",
   "metadata": {},
   "source": [
    "Оценка модели"
   ]
  },
  {
   "cell_type": "code",
   "execution_count": 8,
   "metadata": {},
   "outputs": [
    {
     "name": "stdout",
     "output_type": "stream",
     "text": [
      "313/313 [==============================] - 0s 1ms/step - loss: 0.1085 - accuracy: 0.9652\n"
     ]
    },
    {
     "data": {
      "text/plain": [
       "[0.10850922763347626, 0.9652000069618225]"
      ]
     },
     "execution_count": 8,
     "metadata": {},
     "output_type": "execute_result"
    }
   ],
   "source": [
    "model.evaluate(\n",
    "  test_images,\n",
    "  to_categorical(test_labels)\n",
    ")"
   ]
  },
  {
   "cell_type": "markdown",
   "metadata": {},
   "source": [
    "Сохраняем модель"
   ]
  },
  {
   "cell_type": "code",
   "execution_count": 9,
   "metadata": {},
   "outputs": [],
   "source": [
    "model.save_weights('model.h5')"
   ]
  },
  {
   "cell_type": "markdown",
   "metadata": {},
   "source": [
    "Загружаем модель"
   ]
  },
  {
   "cell_type": "code",
   "execution_count": 10,
   "metadata": {},
   "outputs": [],
   "source": [
    "# model.load_weights('model.h5')"
   ]
  },
  {
   "cell_type": "markdown",
   "metadata": {},
   "source": [
    "Предсказываем на тестовом наборе"
   ]
  },
  {
   "cell_type": "code",
   "execution_count": 11,
   "metadata": {},
   "outputs": [],
   "source": [
    "predictions = model.predict(test_images[:5])"
   ]
  },
  {
   "cell_type": "markdown",
   "metadata": {},
   "source": [
    "Вывод результата предсказания"
   ]
  },
  {
   "cell_type": "code",
   "execution_count": 12,
   "metadata": {},
   "outputs": [
    {
     "name": "stdout",
     "output_type": "stream",
     "text": [
      "[7 2 1 0 4]\n",
      "array('B', [7, 2, 1, 0, 4])\n"
     ]
    }
   ],
   "source": [
    "print(np.argmax(predictions, axis=1)) # [7, 2, 1, 0, 4]\n",
    "print(test_labels[:5]) # [7, 2, 1, 0, 4]"
   ]
  },
  {
   "cell_type": "markdown",
   "metadata": {},
   "source": [
    "Поэкспериментируем с различными параметрами"
   ]
  },
  {
   "cell_type": "markdown",
   "metadata": {},
   "source": [
    "Посмотрим как влияет тип функции активации на последний слой\n",
    "relu\n",
    "sigmoid\n",
    "softmax\n",
    "softplus\n",
    "softsign\n",
    "tanh\n",
    "selu\n",
    "elu\n",
    "exponential"
   ]
  },
  {
   "cell_type": "code",
   "execution_count": 13,
   "metadata": {},
   "outputs": [],
   "source": [
    "activations = ['relu', 'sigmoid', 'softmax', 'softplus', 'softsign', 'tanh', 'selu', 'elu', 'exponential']\n",
    "accuracy = [0] * len(activations)\n",
    "losses = [0] * len(activations)"
   ]
  },
  {
   "cell_type": "code",
   "execution_count": 14,
   "metadata": {
    "scrolled": false
   },
   "outputs": [
    {
     "name": "stdout",
     "output_type": "stream",
     "text": [
      "313/313 [==============================] - 0s 1ms/step - loss: 8.0569 - accuracy: 0.1224\n",
      "313/313 [==============================] - 0s 1ms/step - loss: 3.8480 - accuracy: 0.6847\n",
      "313/313 [==============================] - 0s 1ms/step - loss: 2.4753 - accuracy: 0.7007\n",
      "313/313 [==============================] - 0s 1ms/step - loss: 2.8499 - accuracy: 0.6864\n",
      "313/313 [==============================] - 0s 1ms/step - loss: 3.7049 - accuracy: 0.7043\n",
      "313/313 [==============================] - 0s 1ms/step - loss: 2.5747 - accuracy: 0.6879\n",
      "313/313 [==============================] - 0s 1ms/step - loss: 4.1859 - accuracy: 0.6493\n",
      "313/313 [==============================] - 0s 1ms/step - loss: 1.0445 - accuracy: 0.0926\n",
      "313/313 [==============================] - 0s 1ms/step - loss: 1.2723 - accuracy: 0.5035\n",
      "313/313 [==============================] - 0s 1ms/step - loss: 7.3322 - accuracy: 0.2723\n",
      "relu : loss -  3.734466326236725 , accuracy:  0.5104099959135056\n",
      "313/313 [==============================] - 0s 1ms/step - loss: 0.1224 - accuracy: 0.9609\n",
      "313/313 [==============================] - 0s 1ms/step - loss: 0.1458 - accuracy: 0.9564\n",
      "313/313 [==============================] - 0s 1ms/step - loss: 0.1100 - accuracy: 0.9661\n",
      "313/313 [==============================] - 0s 1ms/step - loss: 0.1287 - accuracy: 0.9613\n",
      "313/313 [==============================] - 0s 1ms/step - loss: 0.1267 - accuracy: 0.9609\n",
      "313/313 [==============================] - 0s 1ms/step - loss: 0.1219 - accuracy: 0.9639\n",
      "313/313 [==============================] - 0s 1ms/step - loss: 0.1193 - accuracy: 0.9642\n",
      "313/313 [==============================] - 0s 1ms/step - loss: 0.1217 - accuracy: 0.9633\n",
      "313/313 [==============================] - 0s 1ms/step - loss: 0.1137 - accuracy: 0.9642\n",
      "313/313 [==============================] - 0s 1ms/step - loss: 0.1328 - accuracy: 0.9579\n",
      "sigmoid : loss -  0.12430593222379685 , accuracy:  0.9619100034236908\n",
      "313/313 [==============================] - 0s 1ms/step - loss: 0.1126 - accuracy: 0.9684\n",
      "313/313 [==============================] - 0s 1ms/step - loss: 0.0935 - accuracy: 0.9697\n",
      "313/313 [==============================] - 0s 1ms/step - loss: 0.1302 - accuracy: 0.9601\n",
      "313/313 [==============================] - 0s 1ms/step - loss: 0.1304 - accuracy: 0.9574\n",
      "313/313 [==============================] - 0s 1ms/step - loss: 0.1125 - accuracy: 0.9636\n",
      "313/313 [==============================] - 0s 1ms/step - loss: 0.1189 - accuracy: 0.9621\n",
      "313/313 [==============================] - 0s 1ms/step - loss: 0.1178 - accuracy: 0.9630\n",
      "313/313 [==============================] - 0s 1ms/step - loss: 0.1340 - accuracy: 0.9574\n",
      "313/313 [==============================] - 0s 1ms/step - loss: 0.0980 - accuracy: 0.9693\n",
      "313/313 [==============================] - 0s 1ms/step - loss: 0.1088 - accuracy: 0.9643\n",
      "softmax : loss -  0.11566095054149628 , accuracy:  0.9635299980640412\n",
      "313/313 [==============================] - 0s 1ms/step - loss: 0.1138 - accuracy: 0.9650\n",
      "313/313 [==============================] - 0s 1ms/step - loss: 0.1062 - accuracy: 0.9662\n",
      "313/313 [==============================] - 0s 1ms/step - loss: 0.1177 - accuracy: 0.9629\n",
      "313/313 [==============================] - 0s 1ms/step - loss: 0.1233 - accuracy: 0.9638\n",
      "313/313 [==============================] - 0s 1ms/step - loss: 0.1376 - accuracy: 0.9561\n",
      "313/313 [==============================] - 0s 1ms/step - loss: 0.1206 - accuracy: 0.9639\n",
      "313/313 [==============================] - 0s 1ms/step - loss: 0.1198 - accuracy: 0.9607\n",
      "313/313 [==============================] - 0s 1ms/step - loss: 0.1039 - accuracy: 0.9678\n",
      "313/313 [==============================] - 0s 1ms/step - loss: 0.1287 - accuracy: 0.9617\n",
      "313/313 [==============================] - 0s 1ms/step - loss: 0.1149 - accuracy: 0.9637\n",
      "softplus : loss -  0.11864565461874008 , accuracy:  0.9631799995899201\n",
      "313/313 [==============================] - 0s 1ms/step - loss: 8.3733 - accuracy: 0.0974\n",
      "313/313 [==============================] - 0s 1ms/step - loss: 8.3766 - accuracy: 0.1025\n",
      "313/313 [==============================] - 0s 1ms/step - loss: 8.6538 - accuracy: 0.1009\n",
      "313/313 [==============================] - 0s 1ms/step - loss: 8.4153 - accuracy: 0.1032\n",
      "313/313 [==============================] - 0s 1ms/step - loss: 7.7947 - accuracy: 0.0986\n",
      "313/313 [==============================] - 0s 1ms/step - loss: 7.8366 - accuracy: 0.0974\n",
      "313/313 [==============================] - 0s 1ms/step - loss: 8.0752 - accuracy: 0.0974\n",
      "313/313 [==============================] - 0s 1ms/step - loss: 8.5684 - accuracy: 0.1030\n",
      "313/313 [==============================] - 0s 1ms/step - loss: 8.2412 - accuracy: 0.1201\n",
      "313/313 [==============================] - 0s 1ms/step - loss: 8.1509 - accuracy: 0.1125\n",
      "softsign : loss -  8.248599338531495 , accuracy:  0.10330000072717667\n",
      "313/313 [==============================] - 0s 1ms/step - loss: 7.7915 - accuracy: 0.0959\n",
      "313/313 [==============================] - 0s 1ms/step - loss: 8.0590 - accuracy: 0.0536\n",
      "313/313 [==============================] - 0s 1ms/step - loss: 8.0542 - accuracy: 0.1473\n",
      "313/313 [==============================] - 0s 1ms/step - loss: 8.3637 - accuracy: 0.0956\n",
      "313/313 [==============================] - 0s 1ms/step - loss: 5.8896 - accuracy: 0.1045\n",
      "313/313 [==============================] - 0s 1ms/step - loss: 7.8721 - accuracy: 0.1351\n",
      "313/313 [==============================] - 0s 1ms/step - loss: 8.3153 - accuracy: 0.1021\n",
      "313/313 [==============================] - 0s 1ms/step - loss: 10.1496 - accuracy: 0.1038\n",
      "313/313 [==============================] - 0s 1ms/step - loss: 8.1332 - accuracy: 0.1012\n",
      "313/313 [==============================] - 0s 1ms/step - loss: 8.1203 - accuracy: 0.1010\n",
      "tanh : loss -  8.0748441696167 , accuracy:  0.10401000156998634\n",
      "313/313 [==============================] - 0s 1ms/step - loss: 9.9287 - accuracy: 0.0940\n",
      "313/313 [==============================] - 0s 1ms/step - loss: 10.5960 - accuracy: 0.1207\n",
      "313/313 [==============================] - 0s 1ms/step - loss: 9.0052 - accuracy: 0.0980\n",
      "313/313 [==============================] - 0s 1ms/step - loss: 11.5277 - accuracy: 0.1414\n",
      "313/313 [==============================] - 0s 1ms/step - loss: 9.5693 - accuracy: 0.1757\n",
      "313/313 [==============================] - 0s 1ms/step - loss: 9.1631 - accuracy: 0.2400\n",
      "313/313 [==============================] - 0s 1ms/step - loss: 13.0895 - accuracy: 0.0974\n",
      "313/313 [==============================] - 0s 1ms/step - loss: 10.6799 - accuracy: 0.1570\n",
      "313/313 [==============================] - 0s 1ms/step - loss: 9.1680 - accuracy: 0.1019\n",
      "313/313 [==============================] - 0s 1ms/step - loss: 8.6506 - accuracy: 0.1557\n",
      "selu : loss -  10.137797355651855 , accuracy:  0.1381799980998039\n",
      "313/313 [==============================] - 0s 1ms/step - loss: 9.5419 - accuracy: 0.1394\n",
      "313/313 [==============================] - 0s 1ms/step - loss: 9.7337 - accuracy: 0.2386\n",
      "313/313 [==============================] - 0s 1ms/step - loss: 10.3107 - accuracy: 0.1193\n",
      "313/313 [==============================] - 0s 1ms/step - loss: 11.5148 - accuracy: 0.1755\n",
      "313/313 [==============================] - 0s 1ms/step - loss: 1.1921e-07 - accuracy: 0.0980\n",
      "313/313 [==============================] - 0s 1ms/step - loss: 9.8320 - accuracy: 0.1012\n",
      "313/313 [==============================] - 0s 1ms/step - loss: 11.1682 - accuracy: 0.1459\n",
      "313/313 [==============================] - 0s 1ms/step - loss: 10.0351 - accuracy: 0.1354\n",
      "313/313 [==============================] - 0s 1ms/step - loss: 12.0225 - accuracy: 0.2420\n",
      "313/313 [==============================] - 0s 1ms/step - loss: 9.8594 - accuracy: 0.1217\n",
      "elu : loss -  9.40184613466263 , accuracy:  0.15169999971985818\n",
      "313/313 [==============================] - 0s 1ms/step - loss: 0.1235 - accuracy: 0.9634\n",
      "313/313 [==============================] - 0s 1ms/step - loss: 0.1291 - accuracy: 0.9608\n",
      "313/313 [==============================] - 0s 1ms/step - loss: 0.1114 - accuracy: 0.9661\n",
      "313/313 [==============================] - 0s 1ms/step - loss: 0.1566 - accuracy: 0.9532\n",
      "313/313 [==============================] - 0s 1ms/step - loss: 0.1109 - accuracy: 0.9661\n"
     ]
    },
    {
     "name": "stdout",
     "output_type": "stream",
     "text": [
      "313/313 [==============================] - 0s 1ms/step - loss: 0.1197 - accuracy: 0.9619\n",
      "313/313 [==============================] - 0s 1ms/step - loss: 0.1064 - accuracy: 0.9665\n",
      "313/313 [==============================] - 0s 1ms/step - loss: 0.0961 - accuracy: 0.9702\n",
      "313/313 [==============================] - 0s 1ms/step - loss: 0.1235 - accuracy: 0.9622\n",
      "313/313 [==============================] - 0s 1ms/step - loss: 0.1275 - accuracy: 0.9596\n",
      "exponential : loss -  0.12047663256525994 , accuracy:  0.9629999876022339\n"
     ]
    }
   ],
   "source": [
    "for i in range(len(activations)):\n",
    "    for j in range(10):\n",
    "        \n",
    "        model = Sequential([\n",
    "            Dense(64, activation='relu', input_shape=(784,)), \n",
    "            Dense(64, activation='relu'), \n",
    "            Dense(10, activation=activations[i])]\n",
    "        )\n",
    "        \n",
    "        model.compile(\n",
    "            optimizer='adam', \n",
    "            loss='categorical_crossentropy', \n",
    "            metrics=['accuracy']\n",
    "        )\n",
    "        \n",
    "        model.fit(\n",
    "            train_images, \n",
    "            to_categorical(train_labels), \n",
    "            epochs=5, \n",
    "            batch_size=32,\n",
    "            verbose=0\n",
    "        )\n",
    "        \n",
    "        result = model.evaluate(test_images, to_categorical(test_labels))\n",
    "        losses[i] += result[0]\n",
    "        accuracy[i] += result[1]\n",
    "\n",
    "    losses[i] = losses[i] / 10\n",
    "    accuracy[i] = accuracy[i] / 10\n",
    "    \n",
    "    print(activations[i], ': loss - ', losses[i], ', accuracy: ', accuracy[i])"
   ]
  },
  {
   "cell_type": "code",
   "execution_count": 15,
   "metadata": {},
   "outputs": [
    {
     "data": {
      "image/png": "[encoded data removed]",
      "text/plain": [
       "<Figure size 864x288 with 2 Axes>"
      ]
     },
     "metadata": {
      "needs_background": "light"
     },
     "output_type": "display_data"
    }
   ],
   "source": [
    "plt.figure(figsize=(12, 4))\n",
    "\n",
    "plt.subplot(1, 2, 1)\n",
    "plt.plot(activations, accuracy)\n",
    "plt.title('Точность')\n",
    "plt.xticks(rotation=90)\n",
    "\n",
    "plt.subplot(1, 2, 2)\n",
    "plt.plot(activations, losses)\n",
    "plt.title('Ошибка')\n",
    "plt.xticks(rotation=90)\n",
    "\n",
    "plt.show()"
   ]
  },
  {
   "cell_type": "code",
   "execution_count": 16,
   "metadata": {},
   "outputs": [
    {
     "name": "stdout",
     "output_type": "stream",
     "text": [
      "Лучшая модель по точности: softmax\n",
      "Лучшая модель по ошибке: softmax\n"
     ]
    }
   ],
   "source": [
    "print(f'Лучшая модель по точности: {activations[accuracy.index(max(accuracy))]}')\n",
    "print(f'Лучшая модель по ошибке: {activations[losses.index(min(losses))]}')"
   ]
  },
  {
   "cell_type": "markdown",
   "metadata": {},
   "source": [
    "Очевидно для данного набора данных наиболее лучшая функция активации, это \"softplus\". Ее и будем использовать в дальнейшем."
   ]
  },
  {
   "cell_type": "markdown",
   "metadata": {},
   "source": [
    "Посмотрим как на точность влияет количество слоев."
   ]
  },
  {
   "cell_type": "code",
   "execution_count": 17,
   "metadata": {},
   "outputs": [],
   "source": [
    "losses = [0] * 10\n",
    "accuracy = [0] * 10"
   ]
  },
  {
   "cell_type": "code",
   "execution_count": 18,
   "metadata": {},
   "outputs": [
    {
     "name": "stdout",
     "output_type": "stream",
     "text": [
      "313/313 [==============================] - 0s 1ms/step - loss: 0.1233 - accuracy: 0.9630\n",
      "0 : loss -  0.12330599129199982 , accuracy:  0.9629999995231628\n",
      "313/313 [==============================] - 0s 1ms/step - loss: 0.1342 - accuracy: 0.9602\n",
      "1 : loss -  0.1342257261276245 , accuracy:  0.9602000117301941\n",
      "313/313 [==============================] - 0s 1ms/step - loss: 0.1017 - accuracy: 0.9703\n",
      "2 : loss -  0.10165964066982269 , accuracy:  0.970300018787384\n",
      "313/313 [==============================] - 0s 1ms/step - loss: 0.1193 - accuracy: 0.9648\n",
      "3 : loss -  0.11925516277551651 , accuracy:  0.9648000001907349\n",
      "313/313 [==============================] - 0s 1ms/step - loss: 0.1281 - accuracy: 0.9600\n",
      "4 : loss -  0.12813909351825714 , accuracy:  0.9599999785423279\n",
      "313/313 [==============================] - 0s 1ms/step - loss: 0.1291 - accuracy: 0.9613\n",
      "5 : loss -  0.1290517896413803 , accuracy:  0.9613000154495239\n",
      "313/313 [==============================] - 0s 1ms/step - loss: 0.1391 - accuracy: 0.9600\n",
      "6 : loss -  0.13907039165496826 , accuracy:  0.9599999785423279\n",
      "313/313 [==============================] - 0s 1ms/step - loss: 0.1621 - accuracy: 0.9515\n",
      "7 : loss -  0.16210772097110748 , accuracy:  0.9514999985694885\n",
      "313/313 [==============================] - 0s 1ms/step - loss: 0.1353 - accuracy: 0.9598\n",
      "8 : loss -  0.1352948248386383 , accuracy:  0.9598000049591064\n",
      "313/313 [==============================] - 0s 1ms/step - loss: 0.1584 - accuracy: 0.9529\n",
      "9 : loss -  0.15842437744140625 , accuracy:  0.9528999924659729\n"
     ]
    }
   ],
   "source": [
    "for i in range(10):\n",
    "    # Формируем массив промежуточных слоев.\n",
    "    laers =[Dense(64, activation='relu', input_shape=(784,))]\n",
    "    for j in range(i):\n",
    "        laers.append(Dense(64, activation='relu'))\n",
    "    laers.append(Dense(10, activation='softplus'))\n",
    "    model = Sequential(laers)\n",
    "\n",
    "    model.compile(\n",
    "        optimizer='adam', \n",
    "        loss='categorical_crossentropy', \n",
    "        metrics=['accuracy']\n",
    "    )\n",
    "\n",
    "    model.fit(\n",
    "        train_images, \n",
    "        to_categorical(train_labels), \n",
    "        epochs=5, \n",
    "        batch_size=32,\n",
    "        verbose=0\n",
    "    )\n",
    "\n",
    "    result = model.evaluate(test_images, to_categorical(test_labels))\n",
    "    losses[i] = result[0]\n",
    "    accuracy[i] = result[1]\n",
    "    \n",
    "    print(i, ': loss - ', losses[i], ', accuracy: ', accuracy[i])"
   ]
  },
  {
   "cell_type": "code",
   "execution_count": 19,
   "metadata": {
    "scrolled": true
   },
   "outputs": [
    {
     "data": {
      "image/png": "[encoded data removed]",
      "text/plain": [
       "<Figure size 864x288 with 2 Axes>"
      ]
     },
     "metadata": {
      "needs_background": "light"
     },
     "output_type": "display_data"
    }
   ],
   "source": [
    "plt.figure(figsize=(12, 4))\n",
    "\n",
    "plt.subplot(1, 2, 1)\n",
    "plt.plot(accuracy)\n",
    "plt.title('Точность')\n",
    "\n",
    "plt.subplot(1, 2, 2)\n",
    "plt.plot(losses)\n",
    "plt.title('Ошибка')\n",
    "\n",
    "plt.show()"
   ]
  },
  {
   "cell_type": "markdown",
   "metadata": {},
   "source": [
    "При 1 скрытом слое точность максимальна и ошибка минимальна."
   ]
  },
  {
   "cell_type": "markdown",
   "metadata": {},
   "source": [
    "Посмотрим количество нейронов в скрытом слое."
   ]
  },
  {
   "cell_type": "code",
   "execution_count": 20,
   "metadata": {},
   "outputs": [],
   "source": [
    "losses = [0] * 40\n",
    "accuracy = [0] * 40"
   ]
  },
  {
   "cell_type": "code",
   "execution_count": 21,
   "metadata": {
    "scrolled": false
   },
   "outputs": [
    {
     "name": "stdout",
     "output_type": "stream",
     "text": [
      "313/313 [==============================] - 0s 1ms/step - loss: 1.4644 - accuracy: 0.4632\n",
      "1  нейронов: loss -  1.4643856287002563 , accuracy:  0.46320000290870667\n",
      "313/313 [==============================] - 0s 1ms/step - loss: 1.1921e-07 - accuracy: 0.0980\n",
      "2  нейронов: loss -  1.1920930376163597e-07 , accuracy:  0.09799999743700027\n",
      "313/313 [==============================] - 0s 1ms/step - loss: 0.3519 - accuracy: 0.9093\n",
      "3  нейронов: loss -  0.35193994641304016 , accuracy:  0.9093000292778015\n",
      "313/313 [==============================] - 0s 1ms/step - loss: 0.3283 - accuracy: 0.9158\n",
      "4  нейронов: loss -  0.3282511830329895 , accuracy:  0.9157999753952026\n",
      "313/313 [==============================] - 0s 1ms/step - loss: 0.2607 - accuracy: 0.9305\n",
      "5  нейронов: loss -  0.2607095241546631 , accuracy:  0.9304999709129333\n",
      "313/313 [==============================] - 0s 1ms/step - loss: 0.1881 - accuracy: 0.9440\n",
      "6  нейронов: loss -  0.18814465403556824 , accuracy:  0.9440000057220459\n",
      "313/313 [==============================] - 0s 1ms/step - loss: 0.2033 - accuracy: 0.9394\n",
      "7  нейронов: loss -  0.20330429077148438 , accuracy:  0.9394000172615051\n",
      "313/313 [==============================] - 0s 1ms/step - loss: 0.1624 - accuracy: 0.9518\n",
      "8  нейронов: loss -  0.1624484807252884 , accuracy:  0.9517999887466431\n",
      "313/313 [==============================] - 0s 1ms/step - loss: 0.1518 - accuracy: 0.9551\n",
      "9  нейронов: loss -  0.15184077620506287 , accuracy:  0.9550999999046326\n",
      "313/313 [==============================] - 0s 1ms/step - loss: 0.1522 - accuracy: 0.9518\n",
      "10  нейронов: loss -  0.15221823751926422 , accuracy:  0.9517999887466431\n",
      "313/313 [==============================] - 0s 1ms/step - loss: 0.1554 - accuracy: 0.9538\n",
      "11  нейронов: loss -  0.15543775260448456 , accuracy:  0.9538000226020813\n",
      "313/313 [==============================] - 0s 1ms/step - loss: 0.1439 - accuracy: 0.9565\n",
      "12  нейронов: loss -  0.14389871060848236 , accuracy:  0.9564999938011169\n",
      "313/313 [==============================] - 0s 1ms/step - loss: 0.1591 - accuracy: 0.9538\n",
      "13  нейронов: loss -  0.1591469943523407 , accuracy:  0.9538000226020813\n",
      "313/313 [==============================] - 0s 1ms/step - loss: 0.1385 - accuracy: 0.9578\n",
      "14  нейронов: loss -  0.13854973018169403 , accuracy:  0.9577999711036682\n",
      "313/313 [==============================] - 0s 1ms/step - loss: 0.1417 - accuracy: 0.9600\n",
      "15  нейронов: loss -  0.14173445105552673 , accuracy:  0.9599999785423279\n",
      "313/313 [==============================] - 0s 1ms/step - loss: 0.1228 - accuracy: 0.9623\n",
      "16  нейронов: loss -  0.12275063246488571 , accuracy:  0.9623000025749207\n",
      "313/313 [==============================] - 0s 1ms/step - loss: 0.1504 - accuracy: 0.9569\n",
      "17  нейронов: loss -  0.15042969584465027 , accuracy:  0.9569000005722046\n",
      "313/313 [==============================] - 0s 1ms/step - loss: 0.1381 - accuracy: 0.9578\n",
      "18  нейронов: loss -  0.1380607634782791 , accuracy:  0.9577999711036682\n",
      "313/313 [==============================] - 0s 1ms/step - loss: 0.1660 - accuracy: 0.9487\n",
      "19  нейронов: loss -  0.16601476073265076 , accuracy:  0.9487000107765198\n",
      "313/313 [==============================] - 0s 1ms/step - loss: 0.1411 - accuracy: 0.9576\n",
      "20  нейронов: loss -  0.14109386503696442 , accuracy:  0.9575999975204468\n",
      "313/313 [==============================] - 0s 1ms/step - loss: 0.1325 - accuracy: 0.9584\n",
      "21  нейронов: loss -  0.13245202600955963 , accuracy:  0.9584000110626221\n",
      "313/313 [==============================] - 0s 1ms/step - loss: 0.1404 - accuracy: 0.9594\n",
      "22  нейронов: loss -  0.14037883281707764 , accuracy:  0.9593999981880188\n",
      "313/313 [==============================] - 0s 1ms/step - loss: 0.1419 - accuracy: 0.9582\n",
      "23  нейронов: loss -  0.14192812144756317 , accuracy:  0.9581999778747559\n",
      "313/313 [==============================] - 0s 1ms/step - loss: 0.1598 - accuracy: 0.9525\n",
      "24  нейронов: loss -  0.15980572998523712 , accuracy:  0.9524999856948853\n",
      "313/313 [==============================] - 0s 1ms/step - loss: 0.1399 - accuracy: 0.9581\n",
      "25  нейронов: loss -  0.1399320811033249 , accuracy:  0.9581000208854675\n",
      "313/313 [==============================] - 0s 1ms/step - loss: 0.1318 - accuracy: 0.9601\n",
      "26  нейронов: loss -  0.13180384039878845 , accuracy:  0.960099995136261\n",
      "313/313 [==============================] - 0s 1ms/step - loss: 0.1419 - accuracy: 0.9561\n",
      "27  нейронов: loss -  0.14186517894268036 , accuracy:  0.9560999870300293\n",
      "313/313 [==============================] - 0s 1ms/step - loss: 0.1263 - accuracy: 0.9604\n",
      "28  нейронов: loss -  0.12629511952400208 , accuracy:  0.9603999853134155\n",
      "313/313 [==============================] - 0s 1ms/step - loss: 0.1575 - accuracy: 0.9521\n",
      "29  нейронов: loss -  0.1574878990650177 , accuracy:  0.9520999789237976\n",
      "313/313 [==============================] - 0s 1ms/step - loss: 0.1260 - accuracy: 0.9610\n",
      "30  нейронов: loss -  0.12599459290504456 , accuracy:  0.9610000252723694\n",
      "313/313 [==============================] - 0s 1ms/step - loss: 0.1625 - accuracy: 0.9520\n",
      "31  нейронов: loss -  0.16249020397663116 , accuracy:  0.9520000219345093\n",
      "313/313 [==============================] - 0s 1ms/step - loss: 0.1461 - accuracy: 0.9549\n",
      "32  нейронов: loss -  0.1460699439048767 , accuracy:  0.9549000263214111\n",
      "313/313 [==============================] - 0s 1ms/step - loss: 0.1550 - accuracy: 0.9528\n",
      "33  нейронов: loss -  0.15499135851860046 , accuracy:  0.9527999758720398\n",
      "313/313 [==============================] - 0s 1ms/step - loss: 0.1440 - accuracy: 0.9592\n",
      "34  нейронов: loss -  0.1439913511276245 , accuracy:  0.9592000246047974\n",
      "313/313 [==============================] - 0s 1ms/step - loss: 0.1448 - accuracy: 0.9546\n",
      "35  нейронов: loss -  0.1448136419057846 , accuracy:  0.9545999765396118\n",
      "313/313 [==============================] - 0s 1ms/step - loss: 0.1289 - accuracy: 0.9596\n",
      "36  нейронов: loss -  0.12892642617225647 , accuracy:  0.9595999717712402\n",
      "313/313 [==============================] - 0s 1ms/step - loss: 0.1300 - accuracy: 0.9587\n",
      "37  нейронов: loss -  0.12998472154140472 , accuracy:  0.9587000012397766\n",
      "313/313 [==============================] - 0s 1ms/step - loss: 0.1238 - accuracy: 0.9616\n",
      "38  нейронов: loss -  0.1237824335694313 , accuracy:  0.9616000056266785\n",
      "313/313 [==============================] - 0s 1ms/step - loss: 0.1212 - accuracy: 0.9624\n",
      "39  нейронов: loss -  0.12123481184244156 , accuracy:  0.9624000191688538\n",
      "313/313 [==============================] - 0s 1ms/step - loss: 0.1221 - accuracy: 0.9630\n",
      "40  нейронов: loss -  0.12209895253181458 , accuracy:  0.9629999995231628\n"
     ]
    }
   ],
   "source": [
    "for i in range(40):\n",
    "    model = Sequential([\n",
    "        Dense(64, activation='relu', input_shape=(784,)), \n",
    "        Dense(i + 1, activation='relu'), \n",
    "        Dense(10, activation='softplus')]\n",
    "    )\n",
    "\n",
    "    model.compile(\n",
    "        optimizer='adam', \n",
    "        loss='categorical_crossentropy', \n",
    "        metrics=['accuracy']\n",
    "    )\n",
    "\n",
    "    model.fit(\n",
    "        train_images, \n",
    "        to_categorical(train_labels), \n",
    "        epochs=5, \n",
    "        batch_size=32,\n",
    "        verbose=0\n",
    "    )\n",
    "\n",
    "    result = model.evaluate(test_images, to_categorical(test_labels))\n",
    "    losses[i - 1] = result[0]\n",
    "    accuracy[i - 1] = result[1]\n",
    "    \n",
    "    print(i + 1, ' нейронов: loss - ', result[0], ', accuracy: ', result[1])"
   ]
  },
  {
   "cell_type": "code",
   "execution_count": 22,
   "metadata": {},
   "outputs": [
    {
     "data": {
      "image/png": "[encoded data removed]",
      "text/plain": [
       "<Figure size 864x288 with 2 Axes>"
      ]
     },
     "metadata": {
      "needs_background": "light"
     },
     "output_type": "display_data"
    }
   ],
   "source": [
    "plt.figure(figsize=(12, 4))\n",
    "\n",
    "plt.subplot(1, 2, 1)\n",
    "plt.plot(accuracy)\n",
    "plt.title('Точность')\n",
    "\n",
    "plt.subplot(1, 2, 2)\n",
    "plt.plot(losses)\n",
    "plt.title('Ошибка')\n",
    "\n",
    "plt.show()"
   ]
  },
  {
   "cell_type": "code",
   "execution_count": 23,
   "metadata": {},
   "outputs": [
    {
     "name": "stdout",
     "output_type": "stream",
     "text": [
      "Оптимальное количество нейронов в слое по точности: 38\n",
      "Оптимальное количество нейронов в слое по ошибке: 0\n"
     ]
    }
   ],
   "source": [
    "print(f'Оптимальное количество нейронов в слое по точности: {accuracy.index(max(accuracy))}')\n",
    "print(f'Оптимальное количество нейронов в слое по ошибке: {losses.index(min(losses))}')"
   ]
  },
  {
   "cell_type": "markdown",
   "metadata": {},
   "source": [
    "Для уверенного обучения нейронной сети достаточно 6-8 нейронов в скрытом слое, то, что сверху не ведет к существенному величению точности и колебается в пределах 1%, но в тоже время увеличивает время обучения."
   ]
  },
  {
   "cell_type": "markdown",
   "metadata": {},
   "source": [
    "Для надежности будем использовать 8 нейронов на слой."
   ]
  },
  {
   "cell_type": "markdown",
   "metadata": {},
   "source": [
    "Посмотрим как влияет на обучение количество эпох"
   ]
  },
  {
   "cell_type": "code",
   "execution_count": 24,
   "metadata": {},
   "outputs": [],
   "source": [
    "losses = [0] * 40\n",
    "accuracy = [0] * 40"
   ]
  },
  {
   "cell_type": "code",
   "execution_count": 25,
   "metadata": {},
   "outputs": [
    {
     "name": "stdout",
     "output_type": "stream",
     "text": [
      "313/313 [==============================] - 0s 1ms/step - loss: 0.3092 - accuracy: 0.9139\n",
      "1  эпох: loss -  0.30920401215553284 , accuracy:  0.9139000177383423\n",
      "313/313 [==============================] - 0s 1ms/step - loss: 0.2293 - accuracy: 0.9317\n",
      "2  эпох: loss -  0.22932471334934235 , accuracy:  0.9316999912261963\n",
      "313/313 [==============================] - 0s 1ms/step - loss: 0.2652 - accuracy: 0.9288\n",
      "3  эпох: loss -  0.26516851782798767 , accuracy:  0.9287999868392944\n",
      "313/313 [==============================] - 0s 1ms/step - loss: 0.1884 - accuracy: 0.9445\n",
      "4  эпох: loss -  0.18839679658412933 , accuracy:  0.9445000290870667\n",
      "313/313 [==============================] - 0s 1ms/step - loss: 0.1545 - accuracy: 0.9514\n",
      "5  эпох: loss -  0.15445832908153534 , accuracy:  0.9513999819755554\n",
      "313/313 [==============================] - 0s 1ms/step - loss: 0.1639 - accuracy: 0.9485\n",
      "6  эпох: loss -  0.16389816999435425 , accuracy:  0.9484999775886536\n",
      "313/313 [==============================] - 0s 1ms/step - loss: 0.1536 - accuracy: 0.9567\n",
      "7  эпох: loss -  0.15361985564231873 , accuracy:  0.9567000269889832\n",
      "313/313 [==============================] - 0s 1ms/step - loss: 0.1432 - accuracy: 0.9564\n",
      "8  эпох: loss -  0.14316469430923462 , accuracy:  0.9563999772071838\n",
      "313/313 [==============================] - 0s 1ms/step - loss: 0.1193 - accuracy: 0.9655\n",
      "9  эпох: loss -  0.11928680539131165 , accuracy:  0.965499997138977\n",
      "313/313 [==============================] - 0s 1ms/step - loss: 0.1412 - accuracy: 0.9608\n",
      "10  эпох: loss -  0.14124314486980438 , accuracy:  0.9607999920845032\n",
      "313/313 [==============================] - 0s 1ms/step - loss: 0.1392 - accuracy: 0.9571\n",
      "11  эпох: loss -  0.13917402923107147 , accuracy:  0.957099974155426\n",
      "313/313 [==============================] - 0s 1ms/step - loss: 0.1337 - accuracy: 0.9603\n",
      "12  эпох: loss -  0.13369004428386688 , accuracy:  0.9603000283241272\n",
      "313/313 [==============================] - 0s 1ms/step - loss: 0.1406 - accuracy: 0.9602\n",
      "13  эпох: loss -  0.14056651294231415 , accuracy:  0.9602000117301941\n",
      "313/313 [==============================] - 0s 1ms/step - loss: 0.1312 - accuracy: 0.9620\n",
      "14  эпох: loss -  0.13119632005691528 , accuracy:  0.9620000123977661\n",
      "313/313 [==============================] - 0s 1ms/step - loss: 0.1231 - accuracy: 0.9636\n",
      "15  эпох: loss -  0.12307055294513702 , accuracy:  0.9635999798774719\n",
      "313/313 [==============================] - 1s 2ms/step - loss: 0.1317 - accuracy: 0.9642\n",
      "16  эпох: loss -  0.1317245215177536 , accuracy:  0.9642000198364258\n",
      "313/313 [==============================] - 1s 2ms/step - loss: 0.1391 - accuracy: 0.9619\n",
      "17  эпох: loss -  0.1390913873910904 , accuracy:  0.961899995803833\n",
      "313/313 [==============================] - 0s 1ms/step - loss: 0.1277 - accuracy: 0.9653\n",
      "18  эпох: loss -  0.12767568230628967 , accuracy:  0.9653000235557556\n",
      "313/313 [==============================] - 1s 2ms/step - loss: 0.1306 - accuracy: 0.9643\n",
      "19  эпох: loss -  0.13055463135242462 , accuracy:  0.9642999768257141\n",
      "313/313 [==============================] - 1s 2ms/step - loss: 0.1334 - accuracy: 0.9622\n",
      "20  эпох: loss -  0.13342592120170593 , accuracy:  0.9621999859809875\n",
      "313/313 [==============================] - 0s 1ms/step - loss: 0.1343 - accuracy: 0.9645\n",
      "21  эпох: loss -  0.13429300487041473 , accuracy:  0.9645000100135803\n",
      "313/313 [==============================] - 0s 1ms/step - loss: 0.1271 - accuracy: 0.9658\n",
      "22  эпох: loss -  0.12713491916656494 , accuracy:  0.9657999873161316\n",
      "313/313 [==============================] - 0s 1ms/step - loss: 0.1377 - accuracy: 0.9634\n",
      "23  эпох: loss -  0.13774210214614868 , accuracy:  0.9634000062942505\n",
      "313/313 [==============================] - 0s 1ms/step - loss: 0.1836 - accuracy: 0.9513\n",
      "24  эпох: loss -  0.1835877150297165 , accuracy:  0.9513000249862671\n",
      "313/313 [==============================] - 0s 1ms/step - loss: 0.1555 - accuracy: 0.9608\n",
      "25  эпох: loss -  0.15545620024204254 , accuracy:  0.9607999920845032\n",
      "313/313 [==============================] - 0s 1ms/step - loss: 0.1245 - accuracy: 0.9672\n",
      "26  эпох: loss -  0.12454007565975189 , accuracy:  0.967199981212616\n",
      "313/313 [==============================] - 0s 1ms/step - loss: 0.1338 - accuracy: 0.9642\n",
      "27  эпох: loss -  0.13381637632846832 , accuracy:  0.9642000198364258\n",
      "313/313 [==============================] - 0s 1ms/step - loss: 0.1238 - accuracy: 0.9671\n",
      "28  эпох: loss -  0.12382356822490692 , accuracy:  0.9671000242233276\n",
      "313/313 [==============================] - 0s 1ms/step - loss: 0.1486 - accuracy: 0.9631\n",
      "29  эпох: loss -  0.14855927228927612 , accuracy:  0.963100016117096\n",
      "313/313 [==============================] - 0s 1ms/step - loss: 0.1289 - accuracy: 0.9655\n",
      "30  эпох: loss -  0.1289142519235611 , accuracy:  0.965499997138977\n",
      "313/313 [==============================] - 0s 1ms/step - loss: 0.1245 - accuracy: 0.9685\n",
      "31  эпох: loss -  0.12451418489217758 , accuracy:  0.968500018119812\n",
      "313/313 [==============================] - 0s 1ms/step - loss: 0.1183 - accuracy: 0.9715\n",
      "32  эпох: loss -  0.11826490610837936 , accuracy:  0.9714999794960022\n",
      "313/313 [==============================] - 0s 1ms/step - loss: 0.1401 - accuracy: 0.9648\n",
      "33  эпох: loss -  0.14011642336845398 , accuracy:  0.9648000001907349\n",
      "313/313 [==============================] - 0s 1ms/step - loss: 0.1244 - accuracy: 0.9707\n",
      "34  эпох: loss -  0.12441185116767883 , accuracy:  0.9707000255584717\n",
      "313/313 [==============================] - 0s 1ms/step - loss: 0.1333 - accuracy: 0.9691\n",
      "35  эпох: loss -  0.13329467177391052 , accuracy:  0.9690999984741211\n",
      "313/313 [==============================] - 0s 1ms/step - loss: 0.1315 - accuracy: 0.9690\n",
      "36  эпох: loss -  0.1314791440963745 , accuracy:  0.968999981880188\n",
      "313/313 [==============================] - 0s 1ms/step - loss: 0.1564 - accuracy: 0.9620\n",
      "37  эпох: loss -  0.15642063319683075 , accuracy:  0.9620000123977661\n",
      "313/313 [==============================] - 0s 1ms/step - loss: 0.2029 - accuracy: 0.9514\n",
      "38  эпох: loss -  0.20292729139328003 , accuracy:  0.9513999819755554\n",
      "313/313 [==============================] - 0s 1ms/step - loss: 0.1536 - accuracy: 0.9664\n",
      "39  эпох: loss -  0.1536417305469513 , accuracy:  0.9664000272750854\n",
      "313/313 [==============================] - 0s 1ms/step - loss: 0.1516 - accuracy: 0.9650\n",
      "40  эпох: loss -  0.1515657752752304 , accuracy:  0.9649999737739563\n"
     ]
    }
   ],
   "source": [
    "for i in range(40):\n",
    "    model = Sequential([\n",
    "        Dense(64, activation='relu', input_shape=(784,)), \n",
    "        Dense(8, activation='relu'), \n",
    "        Dense(10, activation='softplus')]\n",
    "    )\n",
    "\n",
    "    model.compile(\n",
    "        optimizer='adam', \n",
    "        loss='categorical_crossentropy', \n",
    "        metrics=['accuracy']\n",
    "    )\n",
    "\n",
    "    model.fit(\n",
    "        train_images, \n",
    "        to_categorical(train_labels), \n",
    "        epochs=i + 1, \n",
    "        verbose=0\n",
    "    )\n",
    "\n",
    "    result = model.evaluate(test_images, to_categorical(test_labels))\n",
    "    losses[i] = result[0]\n",
    "    accuracy[i] = result[1]\n",
    "    \n",
    "    print(i + 1, ' эпох: loss - ', result[0], ', accuracy: ', result[1])"
   ]
  },
  {
   "cell_type": "code",
   "execution_count": 26,
   "metadata": {},
   "outputs": [
    {
     "data": {
      "image/png": "[encoded data removed]",
      "text/plain": [
       "<Figure size 864x288 with 2 Axes>"
      ]
     },
     "metadata": {
      "needs_background": "light"
     },
     "output_type": "display_data"
    }
   ],
   "source": [
    "plt.figure(figsize=(12, 4))\n",
    "\n",
    "plt.subplot(1, 2, 1)\n",
    "plt.plot(accuracy)\n",
    "plt.title('Точность')\n",
    "\n",
    "plt.subplot(1, 2, 2)\n",
    "plt.plot(losses)\n",
    "plt.title('Ошибка')\n",
    "\n",
    "plt.show()"
   ]
  },
  {
   "cell_type": "markdown",
   "metadata": {},
   "source": [
    "Для уверенного обучения достаточно 10 - 15 эпох."
   ]
  },
  {
   "cell_type": "markdown",
   "metadata": {},
   "source": [
    "Наиболее оптимальные параметры для орбучения нейросети:\n",
    "    функция активации - softmax\n",
    "    количество скрытых слоев - 1\n",
    "    количество нейронов в скрытом слое - 8\n",
    "    количество эпох для обучения - 10"
   ]
  },
  {
   "cell_type": "code",
   "execution_count": 27,
   "metadata": {},
   "outputs": [
    {
     "name": "stdout",
     "output_type": "stream",
     "text": [
      "Epoch 1/10\n",
      "1875/1875 [==============================] - 2s 1ms/step - loss: 0.5657 - accuracy: 0.8332\n",
      "Epoch 2/10\n",
      "1875/1875 [==============================] - 2s 1ms/step - loss: 0.2446 - accuracy: 0.9292\n",
      "Epoch 3/10\n",
      "1875/1875 [==============================] - 2s 1ms/step - loss: 0.1968 - accuracy: 0.9421\n",
      "Epoch 4/10\n",
      "1875/1875 [==============================] - 2s 1ms/step - loss: 0.1708 - accuracy: 0.9497\n",
      "Epoch 5/10\n",
      "1875/1875 [==============================] - 2s 1ms/step - loss: 0.1527 - accuracy: 0.9549\n",
      "Epoch 6/10\n",
      "1875/1875 [==============================] - 2s 1ms/step - loss: 0.1385 - accuracy: 0.9583\n",
      "Epoch 7/10\n",
      "1875/1875 [==============================] - 2s 1ms/step - loss: 0.1252 - accuracy: 0.9625\n",
      "Epoch 8/10\n",
      "1875/1875 [==============================] - 2s 1ms/step - loss: 0.1183 - accuracy: 0.9649\n",
      "Epoch 9/10\n",
      "1875/1875 [==============================] - 2s 1ms/step - loss: 0.1095 - accuracy: 0.9665\n",
      "Epoch 10/10\n",
      "1875/1875 [==============================] - 2s 1ms/step - loss: 0.1042 - accuracy: 0.9679\n",
      "313/313 [==============================] - 0s 1ms/step - loss: 0.1351 - accuracy: 0.9594\n"
     ]
    },
    {
     "data": {
      "text/plain": [
       "[0.13509778678417206, 0.9593999981880188]"
      ]
     },
     "execution_count": 27,
     "metadata": {},
     "output_type": "execute_result"
    }
   ],
   "source": [
    "model = Sequential([\n",
    "    Dense(64, activation='relu', input_shape=(784,)), \n",
    "    Dense(8, activation='relu'), \n",
    "    Dense(10, activation='softplus')]\n",
    ")\n",
    "\n",
    "model.compile(\n",
    "    optimizer='adam', \n",
    "    loss='categorical_crossentropy', \n",
    "    metrics=['accuracy']\n",
    ")\n",
    "\n",
    "model.fit(\n",
    "    train_images, \n",
    "    to_categorical(train_labels), \n",
    "    epochs=10\n",
    ")\n",
    "\n",
    "model.evaluate(test_images, to_categorical(test_labels))"
   ]
  },
  {
   "cell_type": "markdown",
   "metadata": {},
   "source": [
    "#### Задание 2"
   ]
  },
  {
   "cell_type": "markdown",
   "metadata": {},
   "source": [
    "Поработайте с документацией Keras. Попробуйте найти полезные команды Keras неразобранные на уроке."
   ]
  },
  {
   "cell_type": "markdown",
   "metadata": {},
   "source": [
    "**summary** вывод сводки по модели"
   ]
  },
  {
   "cell_type": "code",
   "execution_count": 28,
   "metadata": {},
   "outputs": [
    {
     "name": "stdout",
     "output_type": "stream",
     "text": [
      "Model: \"sequential_181\"\n",
      "_________________________________________________________________\n",
      "Layer (type)                 Output Shape              Param #   \n",
      "=================================================================\n",
      "dense_578 (Dense)            (None, 64)                50240     \n",
      "_________________________________________________________________\n",
      "dense_579 (Dense)            (None, 8)                 520       \n",
      "_________________________________________________________________\n",
      "dense_580 (Dense)            (None, 10)                90        \n",
      "=================================================================\n",
      "Total params: 50,850\n",
      "Trainable params: 50,850\n",
      "Non-trainable params: 0\n",
      "_________________________________________________________________\n"
     ]
    }
   ],
   "source": [
    "model.summary()"
   ]
  },
  {
   "cell_type": "markdown",
   "metadata": {},
   "source": [
    "**get_layer** возвращает экземпляр слоя по его имени или индексу."
   ]
  },
  {
   "cell_type": "code",
   "execution_count": 29,
   "metadata": {},
   "outputs": [
    {
     "data": {
      "text/plain": [
       "<tensorflow.python.keras.layers.core.Dense at 0x283ad9c7288>"
      ]
     },
     "execution_count": 29,
     "metadata": {},
     "output_type": "execute_result"
    }
   ],
   "source": [
    "model.get_layer(index=1)"
   ]
  },
  {
   "cell_type": "markdown",
   "metadata": {},
   "source": [
    "**add** добавить новый слой в модель."
   ]
  },
  {
   "cell_type": "code",
   "execution_count": 30,
   "metadata": {},
   "outputs": [],
   "source": [
    "model.add(Dense(64, activation='relu'))"
   ]
  },
  {
   "cell_type": "markdown",
   "metadata": {},
   "source": [
    "**pop** удалить последний слой из модели."
   ]
  },
  {
   "cell_type": "code",
   "execution_count": 31,
   "metadata": {},
   "outputs": [],
   "source": [
    "model.pop()"
   ]
  },
  {
   "cell_type": "markdown",
   "metadata": {},
   "source": [
    "**get_weights** получить весовые коэффициенты"
   ]
  },
  {
   "cell_type": "code",
   "execution_count": 32,
   "metadata": {
    "scrolled": false
   },
   "outputs": [
    {
     "data": {
      "text/plain": [
       "[array([[ 0.01535766, -0.05362821, -0.07350215, ...,  0.08297878,\n",
       "          0.0024549 ,  0.0211814 ],\n",
       "        [ 0.01145383,  0.09414326, -0.01113774, ..., -0.02361814,\n",
       "         -0.03060312,  0.03311445],\n",
       "        [-0.01848993,  0.02118951,  0.08999184, ..., -0.0590318 ,\n",
       "          0.01230162, -0.04498774],\n",
       "        ...,\n",
       "        [ 0.03792409, -0.02995893,  0.04283123, ...,  0.06367004,\n",
       "         -0.01523761,  0.08683975],\n",
       "        [-0.05242844,  0.06762982, -0.01129801, ..., -0.04937489,\n",
       "         -0.06714551,  0.07523024],\n",
       "        [-0.02343112,  0.05809185,  0.05864968, ..., -0.06729016,\n",
       "          0.04551638,  0.07747985]], dtype=float32),\n",
       " array([ 0.03776954, -0.01851614, -0.00921838,  0.03563455, -0.03719127,\n",
       "        -0.02511976, -0.04495522, -0.02377732, -0.00899107, -0.03054524,\n",
       "        -0.00581639, -0.00600249, -0.02775132, -0.00803045,  0.02657246,\n",
       "        -0.00468317, -0.05541725, -0.00474706, -0.03581348, -0.00510791,\n",
       "        -0.02130857,  0.04033734, -0.01542209, -0.0099964 , -0.00671743,\n",
       "        -0.01266787, -0.0081512 , -0.00388847, -0.00749482, -0.0417745 ,\n",
       "        -0.01410097, -0.0048265 ,  0.00402064, -0.00403163, -0.03114156,\n",
       "         0.        , -0.04591133, -0.03948978,  0.00339242,  0.03524866,\n",
       "        -0.00599843, -0.00560036, -0.00783867,  0.02837852, -0.00823057,\n",
       "         0.02135265, -0.00648319, -0.01366309, -0.00778397, -0.0076246 ,\n",
       "        -0.00513352, -0.02820935,  0.02152635, -0.00784252, -0.02119616,\n",
       "         0.02934569, -0.00652729, -0.01164428, -0.00600466,  0.07833339,\n",
       "        -0.00155236, -0.00947517, -0.00600394, -0.03427139], dtype=float32),\n",
       " array([[ 1.08714856e-01,  1.50023356e-01,  2.65922040e-01,\n",
       "         -7.81542063e-02,  2.56911874e-01,  1.50667101e-01,\n",
       "         -3.95280682e-03, -3.23688328e-01],\n",
       "        [-5.17843366e-01, -2.73497462e-01,  4.22646701e-01,\n",
       "          8.02647322e-03, -3.44271272e-01,  3.69505852e-01,\n",
       "         -5.82183421e-01,  4.05917704e-01],\n",
       "        [ 2.93380886e-01, -2.46429831e-01,  9.58655328e-02,\n",
       "         -8.51120502e-02,  1.86104596e-01, -1.12414852e-01,\n",
       "          4.78711873e-01,  2.81320781e-01],\n",
       "        [ 1.33925170e-01,  1.66356578e-01,  1.19609438e-01,\n",
       "         -9.49684903e-03,  2.10645571e-01,  3.59976262e-01,\n",
       "         -1.70805484e-01,  1.73272693e-03],\n",
       "        [-3.94746542e-01,  2.78902173e-01,  3.47805887e-01,\n",
       "          1.72065005e-01, -2.83224374e-01, -2.75939375e-01,\n",
       "          6.75278246e-01,  3.95181268e-01],\n",
       "        [ 4.13539074e-02, -1.12916470e-01,  1.20514587e-01,\n",
       "          1.72905549e-01, -3.13756466e-01,  3.50605369e-01,\n",
       "          1.88809991e-01, -1.58043578e-01],\n",
       "        [ 3.96505892e-01, -5.16123235e-01, -6.36876225e-02,\n",
       "         -8.98502767e-02,  2.28116065e-01,  2.51082957e-01,\n",
       "         -1.30962104e-01,  1.62440360e-01],\n",
       "        [ 7.32697621e-02, -1.12545781e-01,  3.29949260e-01,\n",
       "         -7.97422588e-01,  6.62698030e-01, -1.22514077e-01,\n",
       "         -1.02425706e+00,  3.79252702e-01],\n",
       "        [-1.18091613e-01, -1.63380474e-01,  2.54237235e-01,\n",
       "         -3.84681253e-03, -1.14496961e-01, -8.29614103e-02,\n",
       "         -1.79188490e-01, -1.28057227e-01],\n",
       "        [ 1.55678183e-01, -1.44997627e-01,  2.65843779e-01,\n",
       "          2.25627929e-01,  3.20319980e-01,  5.90740182e-02,\n",
       "          2.01137066e-01,  3.06167841e-01],\n",
       "        [-6.56005219e-02, -2.62270182e-01,  8.44416693e-02,\n",
       "          1.66604891e-01,  1.89054519e-01,  7.37367496e-02,\n",
       "         -1.48821428e-01, -2.36823574e-01],\n",
       "        [-1.57360762e-01,  2.16933832e-01, -2.52066284e-01,\n",
       "          2.65963562e-02, -1.70824647e-01, -6.27451437e-03,\n",
       "         -6.60388097e-02,  5.77385426e-02],\n",
       "        [ 4.67261449e-02,  2.03818120e-02, -2.25392193e-01,\n",
       "         -2.95151174e-01, -1.77999839e-01,  1.93296388e-01,\n",
       "         -1.08565271e-01,  1.03820372e+00],\n",
       "        [ 1.13719270e-01, -4.86261666e-01, -6.03346050e-01,\n",
       "         -4.67684001e-01,  1.32568642e-01,  1.89772487e-01,\n",
       "          5.36614001e-01, -3.86270970e-01],\n",
       "        [ 2.27607116e-01,  2.34649733e-01,  8.77119228e-02,\n",
       "          2.30885193e-01,  3.51980746e-01,  2.46874064e-01,\n",
       "         -3.50625925e-02,  2.85142243e-01],\n",
       "        [-1.04839742e-01, -2.64362067e-01, -2.75659531e-01,\n",
       "          8.67654979e-02, -1.43264299e-02,  2.02979922e-01,\n",
       "         -2.42392868e-02,  3.60727310e-03],\n",
       "        [-4.62903708e-01,  4.92593288e-01,  1.45343214e-01,\n",
       "         -2.33018860e-01, -2.11526155e-01,  3.33070487e-01,\n",
       "          2.44592249e-01,  9.27470505e-01],\n",
       "        [ 9.44456831e-02, -1.56990409e-01,  8.67600217e-02,\n",
       "          9.80008245e-02, -2.77513504e-01,  6.04150817e-02,\n",
       "          2.08702907e-01, -1.72972932e-01],\n",
       "        [-3.51522058e-01,  2.37810966e-02,  2.71767557e-01,\n",
       "          2.98391283e-01,  5.18107653e-01, -3.33918571e-01,\n",
       "         -3.21688473e-01,  2.72292674e-01],\n",
       "        [ 2.76710540e-01, -3.67470384e-02, -2.76263297e-01,\n",
       "         -1.10288426e-01, -1.91761270e-01, -1.11140132e-01,\n",
       "         -2.39566583e-02,  1.52054846e-01],\n",
       "        [ 4.67077494e-01, -7.27502629e-02,  4.29228693e-01,\n",
       "         -7.67465174e-01,  3.29985842e-02,  8.90092403e-02,\n",
       "         -1.18185565e-01,  1.34550303e-01],\n",
       "        [ 1.01558328e-01,  2.33745575e-01,  8.84728357e-02,\n",
       "         -1.60120085e-01,  4.59965974e-01,  1.01442792e-01,\n",
       "          1.85815766e-01, -2.27200296e-02],\n",
       "        [-8.42392519e-02,  2.01026395e-01, -1.95473228e-02,\n",
       "         -1.19267531e-01,  1.11110739e-01,  2.14517727e-01,\n",
       "          9.84688699e-02,  3.15560251e-02],\n",
       "        [ 3.38145811e-03,  2.11421490e-01,  1.71198010e-01,\n",
       "         -1.81130826e-01,  1.67766362e-01,  1.25710472e-01,\n",
       "         -3.69373872e-03,  1.88227758e-01],\n",
       "        [ 1.50235116e-01, -9.58312750e-02, -1.53050929e-01,\n",
       "         -3.14076692e-02,  2.39491165e-01, -2.11761352e-02,\n",
       "          2.56257236e-01,  2.04275995e-01],\n",
       "        [-3.67579997e-01, -6.66387156e-02,  5.39172769e-01,\n",
       "         -2.88571864e-01, -3.01572323e-01,  9.26808044e-02,\n",
       "          3.92718643e-01,  9.90376100e-02],\n",
       "        [ 1.28254920e-01, -1.52389526e-01, -2.21623629e-01,\n",
       "         -4.04874712e-01,  7.72026241e-01, -2.79018700e-01,\n",
       "         -4.87179786e-01,  1.49355635e-01],\n",
       "        [-2.05661461e-01,  2.08913222e-01, -5.74773469e-04,\n",
       "          2.79278338e-01,  9.04670823e-03,  7.01984614e-02,\n",
       "          1.62950307e-01,  1.56519890e-01],\n",
       "        [ 2.86237568e-01,  6.37363344e-02, -1.69219170e-02,\n",
       "         -4.77945417e-01,  6.07258618e-01, -3.15520376e-01,\n",
       "         -9.27566648e-01,  3.06317843e-02],\n",
       "        [-1.52410686e-01, -5.55948973e-01,  2.24423558e-01,\n",
       "          2.46316433e-01,  5.94845712e-01, -1.94907151e-02,\n",
       "         -1.66071113e-02, -1.24099255e-01],\n",
       "        [ 4.12514269e-01, -1.20540731e-01, -4.29373868e-02,\n",
       "         -4.72752810e-01,  5.04017949e-01,  1.41391188e-01,\n",
       "         -3.68582606e-01, -3.95476133e-01],\n",
       "        [ 6.09673440e-01, -5.00315905e-01,  4.46169406e-01,\n",
       "          2.55672038e-01, -1.62201002e-01,  2.04123650e-02,\n",
       "         -1.00272167e-02, -1.19723924e-01],\n",
       "        [ 2.84360379e-01,  2.03372717e-01, -1.46797538e-01,\n",
       "         -1.41625658e-01,  4.33715522e-01, -1.50809675e-01,\n",
       "          2.84476668e-01, -2.19321400e-01],\n",
       "        [-7.46630952e-02, -2.08703324e-01, -1.23803377e-01,\n",
       "          2.11907357e-01,  5.15880696e-02, -1.68872640e-01,\n",
       "         -1.73277989e-01, -2.58810490e-01],\n",
       "        [ 6.58850133e-01,  6.41314164e-02, -1.92538485e-01,\n",
       "         -1.32518679e-01,  2.03702226e-01, -2.82153755e-01,\n",
       "          4.75174397e-01, -1.43779144e-01],\n",
       "        [-4.24961746e-02, -4.19898331e-02,  5.97732961e-02,\n",
       "         -1.94933608e-01,  1.21368766e-01, -3.71354818e-02,\n",
       "         -2.85605580e-01, -1.08420357e-01],\n",
       "        [-3.58611763e-01, -4.66998190e-01, -6.02543354e-02,\n",
       "          3.35704774e-01,  1.05669789e-01, -2.11285591e-01,\n",
       "          5.24330735e-01, -1.74567159e-02],\n",
       "        [ 5.35977542e-01, -3.40298802e-01,  5.77496588e-01,\n",
       "         -4.69713844e-02, -2.46208031e-02, -1.85178876e-01,\n",
       "          2.33681351e-01,  2.73619831e-01],\n",
       "        [-2.35418633e-01,  1.48913199e-02,  1.66827068e-01,\n",
       "          1.58354312e-01,  3.38903546e-01,  2.28129715e-01,\n",
       "          1.61495104e-01, -2.97954232e-01],\n",
       "        [-2.43114397e-01,  1.78725153e-01, -7.49292150e-02,\n",
       "          2.40467966e-01,  1.58115298e-01,  2.15210870e-01,\n",
       "          2.04801708e-01, -2.69532967e-02],\n",
       "        [-8.82895142e-02, -7.21387118e-02,  1.60518780e-01,\n",
       "          2.42961809e-01, -8.45512524e-02,  1.55606449e-01,\n",
       "          1.58045843e-01,  1.14717275e-01],\n",
       "        [-2.46283084e-01,  2.78049707e-01,  2.13130459e-01,\n",
       "          1.63906172e-01, -6.24300390e-02, -1.61644772e-01,\n",
       "          2.04334542e-01, -2.51942873e-01],\n",
       "        [-1.11546144e-01,  6.80498704e-02, -1.16795078e-02,\n",
       "          3.60008441e-02, -4.55913395e-02,  3.04724909e-02,\n",
       "         -7.53290951e-02,  7.63035342e-02],\n",
       "        [-3.76247436e-01,  2.11713523e-01,  1.61087457e-02,\n",
       "         -4.88241836e-02,  1.03647672e-01,  2.53547549e-01,\n",
       "          1.60119265e-01, -3.66979539e-01],\n",
       "        [-1.79826453e-01, -2.81259358e-01, -2.10120454e-01,\n",
       "         -1.58234891e-02,  5.01985066e-02,  1.07455194e-01,\n",
       "          7.36595085e-03, -1.07905470e-01],\n",
       "        [-2.55540758e-01,  5.51552847e-02, -1.01670604e-02,\n",
       "         -2.36650065e-01,  1.63204789e-01,  3.37858886e-01,\n",
       "         -5.84557839e-02,  5.65995276e-02],\n",
       "        [ 5.62291220e-02,  2.38613978e-01,  2.54365802e-01,\n",
       "         -2.50622571e-01, -1.42137706e-01, -1.78260282e-02,\n",
       "         -2.99942881e-01, -1.38352424e-01],\n",
       "        [-1.22382557e-02,  3.80098164e-01, -5.85235536e-01,\n",
       "         -3.94404143e-01,  1.94351643e-01,  1.17672384e-01,\n",
       "          2.93868810e-01,  1.25270069e-01],\n",
       "        [-2.85238832e-01,  1.47125766e-01, -1.02281133e-02,\n",
       "          8.36203098e-02,  6.80055320e-02, -7.79580548e-02,\n",
       "          1.02521759e-02, -5.77367730e-02],\n",
       "        [ 9.10798460e-02,  1.64462879e-01, -2.40920916e-01,\n",
       "          8.42925608e-02, -9.61787105e-02,  4.43037488e-02,\n",
       "         -2.70415354e-03, -1.60723433e-01],\n",
       "        [-2.72250921e-01, -4.77618992e-01,  5.80192149e-01,\n",
       "         -5.51851094e-01,  1.90234482e-01,  3.88034731e-01,\n",
       "         -6.26769900e-01,  4.30769265e-01],\n",
       "        [ 3.11128169e-01,  2.63414860e-01,  5.07081747e-01,\n",
       "          4.29071665e-01,  1.85817808e-01, -3.91105115e-01,\n",
       "          1.51717022e-01,  1.85066074e-01],\n",
       "        [ 2.92537510e-01,  1.91717103e-01,  6.83739841e-01,\n",
       "          4.33124125e-01,  9.30043384e-02, -7.06378222e-01,\n",
       "         -3.92643392e-01,  8.82738009e-02],\n",
       "        [-1.95597708e-01,  6.33696169e-02, -1.53400347e-01,\n",
       "         -1.65836271e-02, -2.35652868e-02,  2.21700184e-02,\n",
       "          1.06113046e-01,  2.69700706e-01],\n",
       "        [ 8.24265897e-01,  1.03496268e-01, -6.25130475e-01,\n",
       "          8.39466527e-02, -2.08354354e-01,  1.47293694e-02,\n",
       "          2.28557512e-01, -2.26395696e-01],\n",
       "        [ 2.06980675e-01, -4.17607784e-01, -3.76074106e-01,\n",
       "          3.65023822e-01, -3.31884980e-01,  2.78051257e-01,\n",
       "          3.71687591e-01,  2.33889759e-01],\n",
       "        [-1.61919668e-01,  6.30300641e-02, -1.13422200e-02,\n",
       "         -1.90191135e-01, -1.56203389e-01, -7.49213845e-02,\n",
       "         -1.39278069e-01, -3.24987769e-02],\n",
       "        [-5.76418415e-02, -4.96858321e-02,  1.61489844e-01,\n",
       "         -3.66894081e-02, -3.55763361e-02,  4.56049055e-01,\n",
       "          2.42192462e-01, -4.21175331e-01],\n",
       "        [-2.45235577e-01,  1.44430980e-01,  2.36629590e-01,\n",
       "         -1.03327624e-01, -2.80680001e-01,  2.31800735e-01,\n",
       "         -1.47798341e-02,  1.54439405e-01],\n",
       "        [ 1.99454173e-01,  1.58437178e-01,  2.28311464e-01,\n",
       "          1.48076490e-01,  2.66345680e-01,  3.64376247e-01,\n",
       "          4.23052281e-01,  2.76948921e-02],\n",
       "        [ 1.30792290e-01, -1.41428366e-01, -1.50701866e-01,\n",
       "         -1.41248824e-02,  2.09340021e-01,  4.33596998e-01,\n",
       "         -5.50299510e-02, -3.35036576e-01],\n",
       "        [-2.16064304e-01,  1.56230658e-01, -1.21689551e-01,\n",
       "          2.05438018e-01, -4.00105752e-02, -1.14764189e-02,\n",
       "         -2.85938270e-02, -4.53795157e-02],\n",
       "        [ 1.33419707e-01,  1.89468533e-01, -1.44299075e-01,\n",
       "          1.09847769e-01, -2.01249316e-01, -1.25765800e-01,\n",
       "         -7.91981220e-02,  2.47967601e-01],\n",
       "        [ 4.29637522e-01,  3.57948095e-01,  2.08273411e-01,\n",
       "          2.43480742e-01, -1.46127522e-01, -2.77100593e-01,\n",
       "         -3.32733989e-01,  9.18150023e-02]], dtype=float32),\n",
       " array([-0.02404908,  0.12046311,  0.00955057,  0.00678588,  0.09247684,\n",
       "         0.0977712 ,  0.07481333,  0.01907306], dtype=float32),\n",
       " array([[ 0.06735715, -0.04749024, -0.6566916 ,  0.47013205, -0.17332771,\n",
       "         -0.11241603, -0.63374454,  0.25096637, -0.4370292 ,  0.37464055],\n",
       "        [-0.2626213 , -0.80772096,  0.16393726,  0.25550896,  0.14324266,\n",
       "         -0.3579111 , -0.92543447, -0.15373994,  0.48226237, -0.07471828],\n",
       "        [ 0.25126272, -0.41716295,  0.38623232, -0.14263001, -0.15008344,\n",
       "         -0.81642497,  0.19216111, -0.52351385, -0.4787481 , -0.48207605],\n",
       "        [ 0.31220922,  0.31141996, -0.6818989 , -0.7788924 ,  0.5755283 ,\n",
       "         -0.63422143,  0.07903895, -0.27844745,  0.45615405,  0.44595233],\n",
       "        [-0.8785434 ,  0.41288173,  0.21216522, -0.2576695 , -0.6089753 ,\n",
       "         -0.33388382, -0.329405  ,  0.01895811, -0.09071998, -0.20375074],\n",
       "        [ 0.27377647, -0.52818334, -0.6643784 , -0.0035251 , -0.22795166,\n",
       "          0.5211855 , -0.1000249 , -0.64278513, -0.00817949, -0.5697467 ],\n",
       "        [-0.5864736 , -0.3600846 , -0.3019158 , -0.3699784 , -0.00757011,\n",
       "          0.11492612,  0.3064527 , -0.3954479 , -0.354506  ,  0.10055417],\n",
       "        [ 0.03155439, -0.4854858 ,  0.01237506, -0.72147804,  0.22328705,\n",
       "         -0.04590001, -0.42984524,  0.6627277 , -0.624007  , -0.5873626 ]],\n",
       "       dtype=float32),\n",
       " array([-0.12249393, -0.45734346, -0.07788679, -0.09423611, -0.4765236 ,\n",
       "         0.05987735, -0.3875106 , -0.16895445,  0.13309316,  0.16313975],\n",
       "       dtype=float32)]"
      ]
     },
     "execution_count": 32,
     "metadata": {},
     "output_type": "execute_result"
    }
   ],
   "source": [
    "model.get_weights()"
   ]
  },
  {
   "cell_type": "markdown",
   "metadata": {},
   "source": [
    "**set_weights** задать весовые коэффициенты"
   ]
  },
  {
   "cell_type": "code",
   "execution_count": 33,
   "metadata": {},
   "outputs": [],
   "source": [
    "weights = model.get_weights()\n",
    "model.set_weights(weights)"
   ]
  },
  {
   "cell_type": "markdown",
   "metadata": {},
   "source": [
    "**get_config** возвращает настройки слоев."
   ]
  },
  {
   "cell_type": "code",
   "execution_count": 34,
   "metadata": {},
   "outputs": [
    {
     "data": {
      "text/plain": [
       "{'name': 'sequential_181',\n",
       " 'layers': [{'class_name': 'InputLayer',\n",
       "   'config': {'batch_input_shape': (None, 784),\n",
       "    'dtype': 'float32',\n",
       "    'sparse': False,\n",
       "    'ragged': False,\n",
       "    'name': 'dense_578_input'}},\n",
       "  {'class_name': 'Dense',\n",
       "   'config': {'name': 'dense_578',\n",
       "    'trainable': True,\n",
       "    'batch_input_shape': (None, 784),\n",
       "    'dtype': 'float32',\n",
       "    'units': 64,\n",
       "    'activation': 'relu',\n",
       "    'use_bias': True,\n",
       "    'kernel_initializer': {'class_name': 'GlorotUniform',\n",
       "     'config': {'seed': None}},\n",
       "    'bias_initializer': {'class_name': 'Zeros', 'config': {}},\n",
       "    'kernel_regularizer': None,\n",
       "    'bias_regularizer': None,\n",
       "    'activity_regularizer': None,\n",
       "    'kernel_constraint': None,\n",
       "    'bias_constraint': None}},\n",
       "  {'class_name': 'Dense',\n",
       "   'config': {'name': 'dense_579',\n",
       "    'trainable': True,\n",
       "    'dtype': 'float32',\n",
       "    'units': 8,\n",
       "    'activation': 'relu',\n",
       "    'use_bias': True,\n",
       "    'kernel_initializer': {'class_name': 'GlorotUniform',\n",
       "     'config': {'seed': None}},\n",
       "    'bias_initializer': {'class_name': 'Zeros', 'config': {}},\n",
       "    'kernel_regularizer': None,\n",
       "    'bias_regularizer': None,\n",
       "    'activity_regularizer': None,\n",
       "    'kernel_constraint': None,\n",
       "    'bias_constraint': None}},\n",
       "  {'class_name': 'Dense',\n",
       "   'config': {'name': 'dense_580',\n",
       "    'trainable': True,\n",
       "    'dtype': 'float32',\n",
       "    'units': 10,\n",
       "    'activation': 'softplus',\n",
       "    'use_bias': True,\n",
       "    'kernel_initializer': {'class_name': 'GlorotUniform',\n",
       "     'config': {'seed': None}},\n",
       "    'bias_initializer': {'class_name': 'Zeros', 'config': {}},\n",
       "    'kernel_regularizer': None,\n",
       "    'bias_regularizer': None,\n",
       "    'activity_regularizer': None,\n",
       "    'kernel_constraint': None,\n",
       "    'bias_constraint': None}}]}"
      ]
     },
     "execution_count": 34,
     "metadata": {},
     "output_type": "execute_result"
    }
   ],
   "source": [
    "model.get_config()"
   ]
  },
  {
   "cell_type": "markdown",
   "metadata": {},
   "source": [
    "**from_config** задает настройки слоев."
   ]
  },
  {
   "cell_type": "code",
   "execution_count": 35,
   "metadata": {},
   "outputs": [
    {
     "data": {
      "text/plain": [
       "<tensorflow.python.keras.engine.sequential.Sequential at 0x283aff0d888>"
      ]
     },
     "execution_count": 35,
     "metadata": {},
     "output_type": "execute_result"
    }
   ],
   "source": [
    "config = model.get_config()\n",
    "model.from_config(config)"
   ]
  },
  {
   "cell_type": "markdown",
   "metadata": {},
   "source": [
    "**to_json** возвращает строку JSON, содержащую настройки слоев."
   ]
  },
  {
   "cell_type": "code",
   "execution_count": 36,
   "metadata": {},
   "outputs": [
    {
     "data": {
      "text/plain": [
       "'{\"class_name\": \"Sequential\", \"config\": {\"name\": \"sequential_181\", \"layers\": [{\"class_name\": \"InputLayer\", \"config\": {\"batch_input_shape\": [null, 784], \"dtype\": \"float32\", \"sparse\": false, \"ragged\": false, \"name\": \"dense_578_input\"}}, {\"class_name\": \"Dense\", \"config\": {\"name\": \"dense_578\", \"trainable\": true, \"batch_input_shape\": [null, 784], \"dtype\": \"float32\", \"units\": 64, \"activation\": \"relu\", \"use_bias\": true, \"kernel_initializer\": {\"class_name\": \"GlorotUniform\", \"config\": {\"seed\": null}}, \"bias_initializer\": {\"class_name\": \"Zeros\", \"config\": {}}, \"kernel_regularizer\": null, \"bias_regularizer\": null, \"activity_regularizer\": null, \"kernel_constraint\": null, \"bias_constraint\": null}}, {\"class_name\": \"Dense\", \"config\": {\"name\": \"dense_579\", \"trainable\": true, \"dtype\": \"float32\", \"units\": 8, \"activation\": \"relu\", \"use_bias\": true, \"kernel_initializer\": {\"class_name\": \"GlorotUniform\", \"config\": {\"seed\": null}}, \"bias_initializer\": {\"class_name\": \"Zeros\", \"config\": {}}, \"kernel_regularizer\": null, \"bias_regularizer\": null, \"activity_regularizer\": null, \"kernel_constraint\": null, \"bias_constraint\": null}}, {\"class_name\": \"Dense\", \"config\": {\"name\": \"dense_580\", \"trainable\": true, \"dtype\": \"float32\", \"units\": 10, \"activation\": \"softplus\", \"use_bias\": true, \"kernel_initializer\": {\"class_name\": \"GlorotUniform\", \"config\": {\"seed\": null}}, \"bias_initializer\": {\"class_name\": \"Zeros\", \"config\": {}}, \"kernel_regularizer\": null, \"bias_regularizer\": null, \"activity_regularizer\": null, \"kernel_constraint\": null, \"bias_constraint\": null}}]}, \"keras_version\": \"2.4.0\", \"backend\": \"tensorflow\"}'"
      ]
     },
     "execution_count": 36,
     "metadata": {},
     "output_type": "execute_result"
    }
   ],
   "source": [
    "model.to_json()"
   ]
  },
  {
   "cell_type": "markdown",
   "metadata": {},
   "source": [
    "**model_from_json** возвращает модель из строки JSON."
   ]
  },
  {
   "cell_type": "code",
   "execution_count": 37,
   "metadata": {},
   "outputs": [],
   "source": [
    "config = model.to_json()\n",
    "loaded_model = keras.models.model_from_json(config)"
   ]
  },
  {
   "cell_type": "markdown",
   "metadata": {},
   "source": [
    "**clone_model** клонирует модель"
   ]
  },
  {
   "cell_type": "code",
   "execution_count": 38,
   "metadata": {},
   "outputs": [
    {
     "data": {
      "text/plain": [
       "<tensorflow.python.keras.engine.sequential.Sequential at 0x282bad09f48>"
      ]
     },
     "execution_count": 38,
     "metadata": {},
     "output_type": "execute_result"
    }
   ],
   "source": [
    "keras.models.clone_model(model)"
   ]
  }
 ],
 "metadata": {
  "kernelspec": {
   "display_name": "Python 3",
   "language": "python",
   "name": "python3"
  },
  "language_info": {
   "codemirror_mode": {
    "name": "ipython",
    "version": 3
   },
   "file_extension": ".py",
   "mimetype": "text/x-python",
   "name": "python",
   "nbconvert_exporter": "python",
   "pygments_lexer": "ipython3",
   "version": "3.7.6"
  }
 },
 "nbformat": 4,
 "nbformat_minor": 4
}
